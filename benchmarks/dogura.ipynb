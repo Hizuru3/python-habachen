{
  "nbformat": 4,
  "nbformat_minor": 0,
  "metadata": {
    "colab": {
      "provenance": []
    },
    "kernelspec": {
      "name": "python3",
      "display_name": "Python 3"
    },
    "language_info": {
      "name": "python"
    }
  },
  "cells": [
    {
      "cell_type": "markdown",
      "source": [
        "ライブラリをインストール"
      ],
      "metadata": {
        "id": "7qcMQKLRVUpc"
      }
    },
    {
      "cell_type": "code",
      "execution_count": null,
      "metadata": {
        "id": "RwTyOkPC8lwv"
      },
      "outputs": [],
      "source": [
        "!pip install habachen\n",
        "!pip install mojimoji\n",
        "!pip install jaconv"
      ]
    },
    {
      "cell_type": "markdown",
      "source": [
        "セットアップ"
      ],
      "metadata": {
        "id": "MFluy8kcV4ac"
      }
    },
    {
      "cell_type": "code",
      "source": [
        "import timeit\n",
        "\n",
        "import habachen\n",
        "import mojimoji\n",
        "import jaconv\n",
        "\n",
        "\n",
        "def timing(statement, number=50, globals=globals()):\n",
        "  result = timeit.repeat(statement, number=number, globals=globals)\n",
        "  return min(result) * (1000 / number)\n",
        "\n",
        "\n",
        "with open(\"dogura_magura.txt\") as fd: # 前もってストレージにアップロードしておく\n",
        "  dogura_magura = fd.read()"
      ],
      "metadata": {
        "id": "ga0eDBcHTINI"
      },
      "execution_count": null,
      "outputs": []
    },
    {
      "cell_type": "markdown",
      "source": [
        "扱うテキストの範囲を設定"
      ],
      "metadata": {
        "id": "E_hY_VhCV_5u"
      }
    },
    {
      "cell_type": "code",
      "source": [
        "s = dogura_magura"
      ],
      "metadata": {
        "id": "VuEJmSOhUddN"
      },
      "execution_count": null,
      "outputs": []
    },
    {
      "cell_type": "markdown",
      "source": [
        "ベンチマーク"
      ],
      "metadata": {
        "id": "22_s1-TtWETu"
      }
    },
    {
      "cell_type": "code",
      "source": [
        "print(\"  \\n半角→全角  \")\n",
        "print(f\"habachen:  \\n{timing('habachen.han_to_zen(s)'):.4} ms  \")\n",
        "print(f\"mojimoji:  \\n{timing('mojimoji.han_to_zen(s)'):.4} ms  \")\n",
        "print(f\"jaconv:  \\n{timing('jaconv.h2z(s, ascii=True, digit=True)'):.4} ms  \")\n",
        "\n",
        "print(\"  \\n全角→半角  \")\n",
        "print(f\"habachen:  \\n{timing('habachen.zen_to_han(s)'):.4} ms  \")\n",
        "print(f\"mojimoji:  \\n{timing('mojimoji.zen_to_han(s)'):.4} ms  \")\n",
        "print(f\"jaconv:  \\n{timing('jaconv.z2h(s, ascii=True, digit=True)'):.4} ms  \")\n",
        "\n",
        "print(\"  \\nひらがな→カタカナ  \")\n",
        "print(f\"habachen:  \\n{timing('habachen.hira_to_kata(s)'):.4} ms  \")\n",
        "print(f\"jaconv:  \\n{timing('jaconv.hira2kata(s)'):.4} ms  \")\n",
        "\n",
        "print(\"  \\nカタカナ→ひらがな  \")\n",
        "print(f\"habachen:  \\n{timing('habachen.kata_to_hira(s)'):.4} ms  \")\n",
        "print(f\"jaconv:  \\n{timing('jaconv.kata2hira(s)'):.4} ms  \")\n"
      ],
      "metadata": {
        "id": "qJd1thJYT2eZ"
      },
      "execution_count": null,
      "outputs": []
    }
  ]
}
